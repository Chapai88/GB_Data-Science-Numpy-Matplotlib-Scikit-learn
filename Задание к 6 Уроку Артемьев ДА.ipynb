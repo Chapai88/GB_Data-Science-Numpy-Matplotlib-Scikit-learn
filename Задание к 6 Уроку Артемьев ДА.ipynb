{
 "cells": [
  {
   "cell_type": "markdown",
   "id": "8abfea41",
   "metadata": {},
   "source": [
    "## ДЗ к Уроку 6. Взаимосвязь величин. Параметрические и непараметрические показатели корреляции. Корреляционный анализ."
   ]
  },
  {
   "cell_type": "markdown",
   "id": "be0fdc56",
   "metadata": {},
   "source": [
    "### Задание 1.\n",
    "Даны значения величины заработной платы заемщиков банка (zp) и значения их поведенческого кредитного скоринга (ks):\n",
    "zp = [35, 45, 190, 200, 40, 70, 54, 150, 120, 110],\n",
    "ks = [401, 574, 874, 919, 459, 739, 653, 902, 746, 832].\n",
    "Найдите ковариацию этих двух величин с помощью элементарных действий, а затем с помощью функции cov из numpy\n",
    "Полученные значения должны быть равны.\n",
    "Найдите коэффициент корреляции Пирсона с помощью ковариации и среднеквадратичных отклонений двух признаков,\n",
    "а затем с использованием функций из библиотек numpy и pandas."
   ]
  },
  {
   "cell_type": "code",
   "execution_count": 17,
   "id": "daa5d43d",
   "metadata": {},
   "outputs": [],
   "source": [
    "import numpy as np\n",
    "import scipy.stats as stats\n",
    "from statsmodels.stats.weightstats import _tconfint_generic as t_stat\n",
    "from statsmodels.stats.weightstats import _zconfint_generic as z_stat"
   ]
  },
  {
   "cell_type": "markdown",
   "id": "7c416b12",
   "metadata": {},
   "source": [
    "Найдём ковариацию двух величин по формулам:\n"
   ]
  },
  {
   "cell_type": "code",
   "execution_count": 5,
   "id": "3a1a15a8",
   "metadata": {},
   "outputs": [],
   "source": [
    "zp =np.array ([35, 45, 190, 200, 40, 70, 54, 150, 120, 110])\n",
    "ks = np.array([401, 574, 874, 919, 459, 739, 653, 902, 746, 832])\n",
    "\n"
   ]
  },
  {
   "cell_type": "code",
   "execution_count": 6,
   "id": "8ed7efc7",
   "metadata": {},
   "outputs": [
    {
     "name": "stdout",
     "output_type": "stream",
     "text": [
      "101.4 709.9 81141.7\n"
     ]
    }
   ],
   "source": [
    "x_mean = zp.mean()\n",
    "y_mean = ks.mean()\n",
    "xy_mean = (zp*ks).mean()\n",
    "print (x_mean, y_mean,xy_mean)"
   ]
  },
  {
   "cell_type": "code",
   "execution_count": 7,
   "id": "cca5d11c",
   "metadata": {},
   "outputs": [
    {
     "data": {
      "text/plain": [
       "9157.839999999997"
      ]
     },
     "execution_count": 7,
     "metadata": {},
     "output_type": "execute_result"
    }
   ],
   "source": [
    "cov_ks = xy_mean - x_mean * y_mean\n",
    "cov_ks"
   ]
  },
  {
   "cell_type": "markdown",
   "id": "d41344a3",
   "metadata": {},
   "source": [
    "Найдём ковариацию двух величин с помощью встроенных функций:"
   ]
  },
  {
   "cell_type": "code",
   "execution_count": 8,
   "id": "6c64da9f",
   "metadata": {},
   "outputs": [
    {
     "data": {
      "text/plain": [
       "array([[ 3494.64,  9157.84],\n",
       "       [ 9157.84, 30468.89]])"
      ]
     },
     "execution_count": 8,
     "metadata": {},
     "output_type": "execute_result"
    }
   ],
   "source": [
    "np.cov(zp,ks, ddof=0)"
   ]
  },
  {
   "cell_type": "code",
   "execution_count": 9,
   "id": "9b1f7717",
   "metadata": {},
   "outputs": [
    {
     "data": {
      "text/plain": [
       "9157.84"
      ]
     },
     "execution_count": 9,
     "metadata": {},
     "output_type": "execute_result"
    }
   ],
   "source": [
    "cov_ks2 = ((zp -zp.mean()) * (ks -ks.mean())).mean()\n",
    "cov_ks2"
   ]
  },
  {
   "cell_type": "markdown",
   "id": "cc89b876",
   "metadata": {},
   "source": [
    "Найдём коэффициент корреляции Пирсона с помощью ковариации и среднеквадратичных отклонений двух признаков"
   ]
  },
  {
   "cell_type": "code",
   "execution_count": 10,
   "id": "3b950778",
   "metadata": {},
   "outputs": [],
   "source": [
    "x_std = zp.std()\n",
    "y_std = ks.std()\n"
   ]
  },
  {
   "cell_type": "code",
   "execution_count": 11,
   "id": "9e7a614e",
   "metadata": {},
   "outputs": [
    {
     "data": {
      "text/plain": [
       "0.8874900920739158"
      ]
     },
     "execution_count": 11,
     "metadata": {},
     "output_type": "execute_result"
    }
   ],
   "source": [
    "corr_ks = cov_ks / (x_std * y_std)\n",
    "corr_ks"
   ]
  },
  {
   "cell_type": "markdown",
   "id": "81b5d0ab",
   "metadata": {},
   "source": [
    "Теперь найдём коэффициент корреляции Пирсона с помощью функции numpy"
   ]
  },
  {
   "cell_type": "code",
   "execution_count": 13,
   "id": "79a7073d",
   "metadata": {},
   "outputs": [
    {
     "data": {
      "text/plain": [
       "array([[1.        , 0.88749009],\n",
       "       [0.88749009, 1.        ]])"
      ]
     },
     "execution_count": 13,
     "metadata": {},
     "output_type": "execute_result"
    }
   ],
   "source": [
    "np.corrcoef(zp,ks)"
   ]
  },
  {
   "cell_type": "markdown",
   "id": "3a738d3c",
   "metadata": {},
   "source": [
    "Ответ: \n",
    "ковариацию двух величин - 9157,84\n",
    "\n",
    "коэффициент корреляции Пирсона - 0,88749009\n"
   ]
  },
  {
   "cell_type": "markdown",
   "id": "224523de",
   "metadata": {},
   "source": [
    "## Задание 2\n",
    "\n",
    "Измерены значения IQ выборки студентов,\n",
    "обучающихся в местных технических вузах:\n",
    "131, 125, 115, 122, 131, 115, 107, 99, 125, 111.\n",
    "Известно, что в генеральной совокупности IQ распределен нормально.\n",
    "Найдите доверительный интервал для математического ожидания с надежностью 0.95."
   ]
  },
  {
   "cell_type": "code",
   "execution_count": 14,
   "id": "1fc7054a",
   "metadata": {},
   "outputs": [],
   "source": [
    "x =np.array([131, 125, 115, 122, 131, 115, 107, 99, 125, 111])\n",
    "x_mean = x.mean()\n",
    "std_x = x.std(ddof=1)\n",
    "x_mean_std = std_x / (np.sqrt (len(x)))"
   ]
  },
  {
   "cell_type": "code",
   "execution_count": 18,
   "id": "c7a91f0d",
   "metadata": {},
   "outputs": [
    {
     "data": {
      "text/plain": [
       "(110.55608365158724, 125.64391634841274)"
      ]
     },
     "execution_count": 18,
     "metadata": {},
     "output_type": "execute_result"
    }
   ],
   "source": [
    "t_stat(x_mean, x_mean_std, len(x) - 1, 0.05, 'two-sided' )"
   ]
  },
  {
   "cell_type": "markdown",
   "id": "efa0f4f2",
   "metadata": {},
   "source": [
    "Ответ: \n",
    "Доверительный интервал располагается в диапозоне (110.556; 125.643)\n"
   ]
  },
  {
   "cell_type": "markdown",
   "id": "4e317390",
   "metadata": {},
   "source": [
    "## Задание 3\n",
    "\n",
    "Известно, что рост футболистов в сборной распределен нормально\n",
    "с дисперсией генеральной совокупности, равной 25 кв.см. Объем выборки равен 27,\n",
    "среднее выборочное составляет 174.2. Найдите доверительный интервал для математического\n",
    "ожидания с надежностью 0.95."
   ]
  },
  {
   "cell_type": "code",
   "execution_count": 19,
   "id": "a55ec693",
   "metadata": {},
   "outputs": [],
   "source": [
    "n = 27\n",
    "x_mean = 174.2\n",
    "x_std = np.sqrt(25)\n",
    "x_mean_std = x_std / np.sqrt(n)\n"
   ]
  },
  {
   "cell_type": "code",
   "execution_count": 20,
   "id": "d44c6eff",
   "metadata": {},
   "outputs": [
    {
     "data": {
      "text/plain": [
       "(172.3140237765397, 176.08597622346028)"
      ]
     },
     "execution_count": 20,
     "metadata": {},
     "output_type": "execute_result"
    }
   ],
   "source": [
    "z_stat(x_mean, x_mean_std, 0.05, 'two-sided' )"
   ]
  },
  {
   "cell_type": "markdown",
   "id": "a8ac1c79",
   "metadata": {},
   "source": [
    "Ответ: Доверительный интервал располагается в диапозоне (172.314; 176.085)\n"
   ]
  },
  {
   "cell_type": "code",
   "execution_count": null,
   "id": "94e59783",
   "metadata": {},
   "outputs": [],
   "source": []
  }
 ],
 "metadata": {
  "kernelspec": {
   "display_name": "Python 3 (ipykernel)",
   "language": "python",
   "name": "python3"
  },
  "language_info": {
   "codemirror_mode": {
    "name": "ipython",
    "version": 3
   },
   "file_extension": ".py",
   "mimetype": "text/x-python",
   "name": "python",
   "nbconvert_exporter": "python",
   "pygments_lexer": "ipython3",
   "version": "3.9.13"
  }
 },
 "nbformat": 4,
 "nbformat_minor": 5
}
