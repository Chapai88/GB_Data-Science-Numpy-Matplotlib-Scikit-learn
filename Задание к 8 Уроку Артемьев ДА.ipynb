{
 "cells": [
  {
   "cell_type": "markdown",
   "id": "9bdbbbf0",
   "metadata": {},
   "source": [
    "# ДЗ к Уроку 8. Дисперсионный анализ. Логистическая регрессия"
   ]
  },
  {
   "cell_type": "markdown",
   "id": "e666299a",
   "metadata": {},
   "source": [
    "### Зачача\n",
    "Провести дисперсионный анализ для определения того, есть ли различия среднего роста среди взрослых футболистов, хоккеистов и штангистов. Даны значения роста в трех группах случайно выбранных спортсменов: Футболисты: 173, 175, 180, 178, 177, 185, 183, 182. Хоккеисты: 177, 179, 180, 188, 177, 172, 171, 184, 180. Штангисты: 172, 173, 169, 177, 166, 180, 178, 177, 172, 166, 170. alpha = 0.05."
   ]
  },
  {
   "cell_type": "markdown",
   "id": "5a004282",
   "metadata": {},
   "source": [
    "Выделим три группы\n",
    "\n",
    "n1 - футболисты\n",
    "\n",
    "n2 - хоккейсты\n",
    "\n",
    "n3 - штангисты"
   ]
  },
  {
   "cell_type": "code",
   "execution_count": 1,
   "id": "1643c8c0",
   "metadata": {},
   "outputs": [],
   "source": [
    "import numpy as np"
   ]
  },
  {
   "cell_type": "markdown",
   "id": "8e45f513",
   "metadata": {},
   "source": [
    "Количество человек в группе определяем исходя из представленых данных по росту"
   ]
  },
  {
   "cell_type": "code",
   "execution_count": 2,
   "id": "53e14004",
   "metadata": {},
   "outputs": [
    {
     "name": "stdout",
     "output_type": "stream",
     "text": [
      "28\n"
     ]
    }
   ],
   "source": [
    "n1 = 8\n",
    "n2 = 9\n",
    "n3 = 11\n",
    "n = n1 + n2 + n3\n",
    "print(n)"
   ]
  },
  {
   "cell_type": "markdown",
   "id": "71a90c21",
   "metadata": {},
   "source": [
    "Всего три группы:"
   ]
  },
  {
   "cell_type": "code",
   "execution_count": 3,
   "id": "1cfaf902",
   "metadata": {},
   "outputs": [],
   "source": [
    "k=3"
   ]
  },
  {
   "cell_type": "markdown",
   "id": "9dd054d6",
   "metadata": {},
   "source": [
    "Рост футболистов:"
   ]
  },
  {
   "cell_type": "code",
   "execution_count": 4,
   "id": "79e0020a",
   "metadata": {},
   "outputs": [],
   "source": [
    "y1 = np.array([173, 175, 180, 178, 177, 185, 183, 182], dtype=np.float64)"
   ]
  },
  {
   "cell_type": "markdown",
   "id": "99dda389",
   "metadata": {},
   "source": [
    "Рост хоккейстов:"
   ]
  },
  {
   "cell_type": "code",
   "execution_count": 5,
   "id": "bf72d1ef",
   "metadata": {},
   "outputs": [],
   "source": [
    "y2 = np.array([177, 179, 180, 188, 177, 172, 171, 184, 180], dtype=np.float64)"
   ]
  },
  {
   "cell_type": "markdown",
   "id": "2feeaeff",
   "metadata": {},
   "source": [
    "Рост штангистов:"
   ]
  },
  {
   "cell_type": "code",
   "execution_count": 6,
   "id": "5ba1d288",
   "metadata": {},
   "outputs": [],
   "source": [
    "y3 = np.array([172, 173, 169, 177, 166, 180, 178, 177, 172, 166, 170], dtype=np.float64)"
   ]
  },
  {
   "cell_type": "markdown",
   "id": "74553750",
   "metadata": {},
   "source": [
    "Проведем однофакторный дисперсионный анализ. Сначала найдем средний рост для каждой группы:"
   ]
  },
  {
   "cell_type": "code",
   "execution_count": 12,
   "id": "766cace3",
   "metadata": {},
   "outputs": [
    {
     "data": {
      "text/plain": [
       "179.125"
      ]
     },
     "execution_count": 12,
     "metadata": {},
     "output_type": "execute_result"
    }
   ],
   "source": [
    "y1_mean = np.mean(y1)\n",
    "y1_mean"
   ]
  },
  {
   "cell_type": "code",
   "execution_count": 13,
   "id": "3f741eec",
   "metadata": {},
   "outputs": [
    {
     "data": {
      "text/plain": [
       "178.66666666666666"
      ]
     },
     "execution_count": 13,
     "metadata": {},
     "output_type": "execute_result"
    }
   ],
   "source": [
    "y2_mean = np.mean(y2)\n",
    "y2_mean"
   ]
  },
  {
   "cell_type": "code",
   "execution_count": 14,
   "id": "575a6edb",
   "metadata": {},
   "outputs": [
    {
     "data": {
      "text/plain": [
       "172.72727272727272"
      ]
     },
     "execution_count": 14,
     "metadata": {},
     "output_type": "execute_result"
    }
   ],
   "source": [
    "y3_mean = np.mean(y3)\n",
    "y3_mean"
   ]
  },
  {
   "cell_type": "markdown",
   "id": "54a4e2e1",
   "metadata": {},
   "source": [
    "Видно, что средние значение по росту разнатся. Установим, что это отличие статистически значимо. Для этого сначала соберем\n",
    "\n",
    "все значения по росту в один массив:"
   ]
  },
  {
   "cell_type": "code",
   "execution_count": 15,
   "id": "e7dd6a43",
   "metadata": {},
   "outputs": [
    {
     "data": {
      "text/plain": [
       "array([173., 175., 180., 178., 177., 185., 183., 182., 177., 179., 180.,\n",
       "       188., 177., 172., 171., 184., 180., 172., 173., 169., 177., 166.,\n",
       "       180., 178., 177., 172., 166., 170.])"
      ]
     },
     "execution_count": 15,
     "metadata": {},
     "output_type": "execute_result"
    }
   ],
   "source": [
    "y_all = np.concatenate([y1, y2, y3])\n",
    "y_all"
   ]
  },
  {
   "cell_type": "markdown",
   "id": "137c1425",
   "metadata": {},
   "source": [
    "Найдем среднее значение по всем значениям роста по трём группам:"
   ]
  },
  {
   "cell_type": "code",
   "execution_count": 16,
   "id": "ca066679",
   "metadata": {},
   "outputs": [
    {
     "name": "stdout",
     "output_type": "stream",
     "text": [
      "176.46428571428572\n"
     ]
    }
   ],
   "source": [
    "y_mean = np.mean(y_all)\n",
    "print(y_mean)"
   ]
  },
  {
   "cell_type": "markdown",
   "id": "b6245847",
   "metadata": {},
   "source": [
    "Найдем  S2  — сумму квадратов отклонений наблюдений от общего среднего:"
   ]
  },
  {
   "cell_type": "code",
   "execution_count": 17,
   "id": "2373053c",
   "metadata": {},
   "outputs": [
    {
     "data": {
      "text/plain": [
       "830.9642857142854"
      ]
     },
     "execution_count": 17,
     "metadata": {},
     "output_type": "execute_result"
    }
   ],
   "source": [
    "s2 = np.sum((y_all - y_mean)**2)\n",
    "s2"
   ]
  },
  {
   "cell_type": "markdown",
   "id": "9d575fa7",
   "metadata": {},
   "source": [
    "Найдем  S2F  - сумму квадратов отклонений средних групповых значений от общего среднего:"
   ]
  },
  {
   "cell_type": "code",
   "execution_count": 18,
   "id": "2faf30b1",
   "metadata": {},
   "outputs": [
    {
     "data": {
      "text/plain": [
       "253.9074675324678"
      ]
     },
     "execution_count": 18,
     "metadata": {},
     "output_type": "execute_result"
    }
   ],
   "source": [
    "s2_f = ((y1_mean - y_mean)**2) * n1 + ((y2_mean - y_mean)**2) * n2 + ((y3_mean - y_mean)**2) * n3\n",
    "s2_f"
   ]
  },
  {
   "cell_type": "markdown",
   "id": "34ff44a4",
   "metadata": {},
   "source": [
    "Найдем  S2ост  — остаточную сумму квадратов отклонений, исходя из формулы S2=S2F+S2ост"
   ]
  },
  {
   "cell_type": "code",
   "execution_count": 19,
   "id": "75d25d05",
   "metadata": {},
   "outputs": [
    {
     "data": {
      "text/plain": [
       "577.0568181818177"
      ]
     },
     "execution_count": 19,
     "metadata": {},
     "output_type": "execute_result"
    }
   ],
   "source": [
    "s2_residual = s2-s2_f\n",
    "s2_residual"
   ]
  },
  {
   "cell_type": "markdown",
   "id": "4a588bf2",
   "metadata": {},
   "source": [
    "Найдем общую дисперсию:"
   ]
  },
  {
   "cell_type": "code",
   "execution_count": 20,
   "id": "0ea3cebf",
   "metadata": {},
   "outputs": [
    {
     "data": {
      "text/plain": [
       "30.776455026455015"
      ]
     },
     "execution_count": 20,
     "metadata": {},
     "output_type": "execute_result"
    }
   ],
   "source": [
    "sigma2_general = s2 / (n - 1)\n",
    "sigma2_general"
   ]
  },
  {
   "cell_type": "markdown",
   "id": "4bbe4ad9",
   "metadata": {},
   "source": [
    "Найдем факторную дисперсию:"
   ]
  },
  {
   "cell_type": "code",
   "execution_count": 21,
   "id": "1092a2c3",
   "metadata": {},
   "outputs": [
    {
     "data": {
      "text/plain": [
       "126.9537337662339"
      ]
     },
     "execution_count": 21,
     "metadata": {},
     "output_type": "execute_result"
    }
   ],
   "source": [
    "sigma2_f = s2_f / (k - 1)\n",
    "sigma2_f"
   ]
  },
  {
   "cell_type": "markdown",
   "id": "958fa4b5",
   "metadata": {},
   "source": [
    "Найдем остаточную дисперсию:"
   ]
  },
  {
   "cell_type": "code",
   "execution_count": 24,
   "id": "2267b538",
   "metadata": {},
   "outputs": [
    {
     "data": {
      "text/plain": [
       "23.082272727272706"
      ]
     },
     "execution_count": 24,
     "metadata": {},
     "output_type": "execute_result"
    }
   ],
   "source": [
    "sigma2_residual = s2_residual / (n - k)\n",
    "sigma2_residual"
   ]
  },
  {
   "cell_type": "markdown",
   "id": "97bddbc1",
   "metadata": {},
   "source": [
    "Вычислим  FH - F расчётное:"
   ]
  },
  {
   "cell_type": "code",
   "execution_count": 26,
   "id": "041dfd46",
   "metadata": {},
   "outputs": [
    {
     "data": {
      "text/plain": [
       "5.5000534508126036"
      ]
     },
     "execution_count": 26,
     "metadata": {},
     "output_type": "execute_result"
    }
   ],
   "source": [
    "F_h = sigma2_f / sigma2_residual\n",
    "F_h"
   ]
  },
  {
   "cell_type": "markdown",
   "id": "6c9065ba",
   "metadata": {},
   "source": [
    "Найдем значение  Fкрит  в таблице критических точек распределения Фишера-Снедекора для заданного уровня значимости  α=0.05  и двух степеней свободы:\n",
    "\n",
    "dfмежд=k−1=3−1=2  и  dfвнутр=n−k=28−3=25.\n",
    "\n",
    "Для данных значений Fкрит=3.38. Так как FH>Fкрит, различие средних значений по росту в трех группах статистически значимо.\n",
    "\n",
    "Также вычислим эмпирическое корреляционное отношение η2:"
   ]
  },
  {
   "cell_type": "code",
   "execution_count": 27,
   "id": "9ebad641",
   "metadata": {},
   "outputs": [
    {
     "data": {
      "text/plain": [
       "0.30555761769498"
      ]
     },
     "execution_count": 27,
     "metadata": {},
     "output_type": "execute_result"
    }
   ],
   "source": [
    "eta2 = s2_f / s2\n",
    "eta2"
   ]
  },
  {
   "cell_type": "markdown",
   "id": "a7dcafc4",
   "metadata": {},
   "source": [
    "Значение  η2 близко к 1 (не меньше 0.2 - 0.3)  — значит, различие средних значений по росту в трех группах является статистически значимым."
   ]
  },
  {
   "cell_type": "code",
   "execution_count": null,
   "id": "56513016",
   "metadata": {},
   "outputs": [],
   "source": []
  }
 ],
 "metadata": {
  "kernelspec": {
   "display_name": "Python 3 (ipykernel)",
   "language": "python",
   "name": "python3"
  },
  "language_info": {
   "codemirror_mode": {
    "name": "ipython",
    "version": 3
   },
   "file_extension": ".py",
   "mimetype": "text/x-python",
   "name": "python",
   "nbconvert_exporter": "python",
   "pygments_lexer": "ipython3",
   "version": "3.9.13"
  }
 },
 "nbformat": 4,
 "nbformat_minor": 5
}
